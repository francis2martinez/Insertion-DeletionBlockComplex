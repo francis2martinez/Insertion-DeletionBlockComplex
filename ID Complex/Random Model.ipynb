{
 "cells": [
  {
   "cell_type": "code",
   "execution_count": 1,
   "id": "5f08f44f",
   "metadata": {},
   "outputs": [],
   "source": [
    "import re\n",
    "import numpy as np\n",
    "import sympy as sym\n",
    "import copy\n",
    "import networkx as nx\n",
    "import InsertionDeletionComplex as IDC\n",
    "import random"
   ]
  },
  {
   "cell_type": "code",
   "execution_count": 2,
   "id": "1e7b69f6",
   "metadata": {},
   "outputs": [],
   "source": [
    "def insert_random_symbol(word,symbols, weights=None):\n",
    "    if weights is None:\n",
    "        weights=[1]*len(symbols)\n",
    "    S=random.choices(symbols,weights)[0]\n",
    "    i=random.randint(0,len(word))\n",
    "    new_word=[(word[(j-1)/2] if j%2!=0 else '') \n",
    "              for j in range(2*len(word)+1)]\n",
    "    new_word[2*i]=S\n",
    "    new_word=''.join(new_word)\n",
    "    return new_word"
   ]
  },
  {
   "cell_type": "code",
   "execution_count": 3,
   "id": "c8389b2b",
   "metadata": {},
   "outputs": [],
   "source": [
    "#Create random words. \n",
    "Symbols=['A','C','T','G']\n",
    "weights=[5,5,1,1]\n",
    "prob_stay=0.75\n",
    "\n",
    "#####\n",
    "N_exps=2000\n",
    "max_len=15\n",
    "\n",
    "Words={}\n",
    "for ex in range(N_exps):\n",
    "    word=''\n",
    "    for vez in range(max_len):\n",
    "        if random.random()>=prob_stay:\n",
    "            word=insert_random_symbol(word,Symbols,weights)\n",
    "    if word in Words:\n",
    "        Words[word]+=1\n",
    "    else:\n",
    "        Words[word]=1"
   ]
  },
  {
   "cell_type": "code",
   "execution_count": 4,
   "id": "6e3152a6",
   "metadata": {},
   "outputs": [
    {
     "data": {
      "text/plain": [
       "[3109, 3127, 631, 668]"
      ]
     },
     "execution_count": 4,
     "metadata": {},
     "output_type": "execute_result"
    }
   ],
   "source": [
    "counts=[sum(w.count(S)*Words[w] for w in Words) for S in Symbols]\n",
    "counts"
   ]
  },
  {
   "cell_type": "code",
   "execution_count": 5,
   "id": "25d22c40",
   "metadata": {},
   "outputs": [
    {
     "data": {
      "text/plain": [
       "10"
      ]
     },
     "execution_count": 5,
     "metadata": {},
     "output_type": "execute_result"
    }
   ],
   "source": [
    "max([len(w) for w in Words])"
   ]
  },
  {
   "cell_type": "code",
   "execution_count": 6,
   "id": "c5928abd",
   "metadata": {},
   "outputs": [
    {
     "data": {
      "text/plain": [
       "648"
      ]
     },
     "execution_count": 6,
     "metadata": {},
     "output_type": "execute_result"
    }
   ],
   "source": [
    "len(Words)"
   ]
  },
  {
   "cell_type": "code",
   "execution_count": 7,
   "id": "3f5df6f0",
   "metadata": {},
   "outputs": [
    {
     "data": {
      "text/plain": [
       "216"
      ]
     },
     "execution_count": 7,
     "metadata": {},
     "output_type": "execute_result"
    }
   ],
   "source": [
    "W=[w for w in Words if Words[w]>1]\n",
    "len(W)"
   ]
  },
  {
   "cell_type": "code",
   "execution_count": 8,
   "id": "a6e13e50",
   "metadata": {},
   "outputs": [
    {
     "ename": "AttributeError",
     "evalue": "module 'InsertionDeletionComplex_updated' has no attribute 'Complex'",
     "output_type": "error",
     "traceback": [
      "\u001b[0;31m---------------------------------------------------------------------------\u001b[0m",
      "\u001b[0;31mAttributeError\u001b[0m                            Traceback (most recent call last)",
      "\u001b[0;32m/var/folders/cc/5ptmjf196ng6twj_97hb7mfc0000gn/T/ipykernel_1852/521480402.py\u001b[0m in \u001b[0;36m<module>\u001b[0;34m\u001b[0m\n\u001b[0;32m----> 1\u001b[0;31m \u001b[0mK\u001b[0m\u001b[0;34m=\u001b[0m\u001b[0mIDC\u001b[0m\u001b[0;34m.\u001b[0m\u001b[0mComplex\u001b[0m\u001b[0;34m(\u001b[0m\u001b[0;34m)\u001b[0m\u001b[0;34m\u001b[0m\u001b[0;34m\u001b[0m\u001b[0m\n\u001b[0m\u001b[1;32m      2\u001b[0m \u001b[0mK\u001b[0m\u001b[0;34m.\u001b[0m\u001b[0mupdate_complex\u001b[0m\u001b[0;34m(\u001b[0m\u001b[0mW\u001b[0m\u001b[0;34m)\u001b[0m\u001b[0;34m\u001b[0m\u001b[0;34m\u001b[0m\u001b[0m\n",
      "\u001b[0;31mAttributeError\u001b[0m: module 'InsertionDeletionComplex_updated' has no attribute 'Complex'"
     ]
    }
   ],
   "source": [
    "K=IDC.Filtration(name='Random',id_exp='1')\n",
    "K.compute_d_skeleton(W,Freqs)"
   ]
  },
  {
   "cell_type": "code",
   "execution_count": 329,
   "id": "7d145a0d",
   "metadata": {},
   "outputs": [
    {
     "data": {
      "text/plain": [
       "{0: {A**3*C*A*C**2*A, G*A**2*T*A},\n",
       " 1: {A**4*(1,A),\n",
       "  C**2*(1,G)*A**2,\n",
       "  C**5*(1,G),\n",
       "  C*A*C*A*C**2*(1,C),\n",
       "  C*T*C*(1,T)*C,\n",
       "  T**2*(1,T)},\n",
       " 2: {(1,A)*(1,T)*C**3,\n",
       "  (1,A)*C**4*(1,C),\n",
       "  (1,A)*C*A**2*(1,T)*A,\n",
       "  (1,C)*A**3*(1,A),\n",
       "  (1,G)*(1,T)*C**2,\n",
       "  (1,G)*A**2*(1,G),\n",
       "  (1,G)*C*(1,C)*A*C,\n",
       "  (1,G)*C**2*A*(1,A)*C,\n",
       "  (1,T)*(1,A)*C*A*C*A,\n",
       "  (1,T)*A**2*(1,A),\n",
       "  (1,T)*A*C*A*(1,G),\n",
       "  A*(1,A)*C**2*(1,C),\n",
       "  A*(1,A)*C**2*A*(1,A),\n",
       "  A*(1,T)*(1,G)*C,\n",
       "  A*(1,T)*G*C*(1,C),\n",
       "  A**2*(1,A)*C**2*(1,C),\n",
       "  A**2*C*(1,C)*(1,T),\n",
       "  A*C*(1,C)*(1,T)*C,\n",
       "  C*(1,A)*(1,T)*C**2,\n",
       "  C*(1,C)*(1,T)*C**2,\n",
       "  C*(1,C)*A**2*(1,A),\n",
       "  C*(1,C)*A**3*(1,A),\n",
       "  C*(1,G)*(1,T)*C,\n",
       "  C*(1,G)*A*(1,G),\n",
       "  C*(1,G)*C**2*(1,C),\n",
       "  C*(1,T)*(1,G)*C*A,\n",
       "  C**2*(1,C)*A*(1,A),\n",
       "  C**3*(1,C)*(1,A),\n",
       "  C**3*(1,C)*A*(1,A),\n",
       "  C**4*(1,C)*(1,A),\n",
       "  C*A**2*(1,C)*A*(1,A),\n",
       "  C*A**2*(1,T)*(1,A),\n",
       "  C*G*(1,A)*(1,T)*C,\n",
       "  G*(1,G)*(1,C),\n",
       "  T*(1,T)*(1,C),\n",
       "  T*(1,T)*(1,G)},\n",
       " 3: {(1,A)*(1,G)*(1,T),\n",
       "  (1,A)*(1,G)*A*(1,A),\n",
       "  (1,A)*(1,T)*C*(1,G),\n",
       "  (1,A)*C*(1,C)*(1,G),\n",
       "  (1,A)*C**2*A*(1,A)*(1,C),\n",
       "  (1,C)*(1,A)*(1,T)*C*A,\n",
       "  (1,C)*(1,A)*C**2*(1,G),\n",
       "  (1,C)*(1,G)*C*(1,G),\n",
       "  (1,C)*(1,T)*C*(1,G),\n",
       "  (1,C)*(1,T)*C**2*(1,C),\n",
       "  (1,C)*A*(1,A)*(1,G)*C,\n",
       "  (1,C)*A*(1,A)*(1,T),\n",
       "  (1,C)*A*(1,C)*(1,G)*A,\n",
       "  (1,C)*A**2*(1,A)*(1,C),\n",
       "  (1,C)*A**2*(1,A)*C*(1,C),\n",
       "  (1,C)*A**2*(1,T)*(1,C),\n",
       "  (1,G)*(1,A)*C*A*(1,A),\n",
       "  (1,G)*(1,C)*(1,G),\n",
       "  (1,G)*(1,C)*A*(1,A),\n",
       "  (1,G)*(1,T)*(1,A),\n",
       "  (1,T)*(1,A)*(1,G),\n",
       "  (1,T)*(1,A)*C**2*(1,C),\n",
       "  (1,T)*(1,C)*(1,G),\n",
       "  (1,T)*(1,C)*(1,T),\n",
       "  (1,T)*(1,G)*(1,A),\n",
       "  (1,T)*A*(1,A)*C*(1,C),\n",
       "  (1,T)*C*(1,C)*(1,A),\n",
       "  A*(1,A)*(1,C)*(1,T),\n",
       "  A*(1,A)*(1,G)*(1,A),\n",
       "  A*(1,A)*(1,T)*(1,C),\n",
       "  A*(1,A)*C*(1,C)*(1,A),\n",
       "  A**2*(1,C)*(1,A)*(1,T),\n",
       "  A*C*(1,A)*(1,C)*A*(1,A),\n",
       "  C*(1,C)*(1,A)*(1,G),\n",
       "  C*(1,C)*(1,G)*(1,C),\n",
       "  C*(1,C)*(1,G)*C*(1,G),\n",
       "  C*(1,C)*(1,T)*(1,A),\n",
       "  C**2*(1,A)*(1,C)*(1,G),\n",
       "  C**2*(1,A)*(1,T)*(1,A)},\n",
       " 4: {(1,A)*(1,C)*(1,G)*(1,A),\n",
       "  (1,A)*(1,C)*(1,T)*(1,A),\n",
       "  (1,A)*(1,C)*(1,T)*(1,C),\n",
       "  (1,A)*(1,C)*(1,T)*A*(1,A),\n",
       "  (1,A)*(1,C)*A*(1,A)*(1,C)*A,\n",
       "  (1,A)*(1,G)*(1,C)*(1,A),\n",
       "  (1,A)*(1,T)*(1,C)*(1,A),\n",
       "  (1,A)*C*(1,C)*(1,A)*C*(1,C),\n",
       "  (1,A)*C*(1,G)*(1,A)*(1,C),\n",
       "  (1,C)*(1,A)*(1,C)*(1,G)*C,\n",
       "  (1,C)*(1,A)*(1,C)*(1,T),\n",
       "  (1,C)*(1,A)*(1,C)*A*C*(1,A),\n",
       "  (1,C)*(1,A)*(1,G)*(1,A),\n",
       "  (1,C)*(1,A)*(1,G)*C*(1,C),\n",
       "  (1,C)*(1,T)*(1,A)*(1,C),\n",
       "  (1,C)*(1,T)*(1,A)*C*(1,C),\n",
       "  (1,C)*(1,T)*(1,C)*(1,A),\n",
       "  (1,C)*(1,T)*A*(1,A)*(1,C),\n",
       "  (1,C)*A*(1,A)*(1,C)*(1,A),\n",
       "  (1,G)*(1,A)*(1,C)*(1,A),\n",
       "  (1,G)*(1,A)*(1,C)*A*(1,C),\n",
       "  (1,T)*(1,A)*(1,C)*(1,A),\n",
       "  (1,T)*(1,C)*(1,A)*(1,C)*A,\n",
       "  A*(1,A)*(1,C)*(1,A)*(1,C),\n",
       "  A*(1,A)*(1,C)*(1,A)*(1,G),\n",
       "  A**2*(1,A)*(1,C)*(1,A)*(1,C),\n",
       "  C*(1,C)*(1,A)*(1,C)*(1,T),\n",
       "  C*(1,C)*A*(1,C)*(1,A)*(1,C)},\n",
       " 5: {(1,A)*(1,C)*(1,A)*(1,C)*(1,A),\n",
       "  (1,A)*(1,C)*(1,A)*(1,G)*(1,C),\n",
       "  (1,A)*C*(1,C)*(1,A)*(1,C)*(1,A),\n",
       "  (1,C)*(1,A)*(1,C)*(1,A)*(1,C),\n",
       "  (1,C)*(1,A)*(1,C)*(1,A)*C*(1,C),\n",
       "  (1,C)*(1,G)*(1,C)*(1,A)*(1,C)}}"
      ]
     },
     "execution_count": 329,
     "metadata": {},
     "output_type": "execute_result"
    }
   ],
   "source": [
    "K.Maximal_Faces"
   ]
  },
  {
   "cell_type": "code",
   "execution_count": null,
   "id": "421d776d",
   "metadata": {},
   "outputs": [],
   "source": [
    "#Create random words. \n",
    "Symbols=['A','C','T','G']\n",
    "weights=[5,5,1,1]\n",
    "prob_stay=0.75\n",
    "\n",
    "#####\n",
    "N_exps=2000\n",
    "max_len=15\n",
    "\n",
    "Words={}\n",
    "for ex in range(N_exps):\n",
    "    word=''\n",
    "    for vez in range(max_len):\n",
    "        if random.random()>=prob_stay:\n",
    "            word=insert_random_symbol(word,Symbols,weights)\n",
    "    if word in Words:\n",
    "        Words[word]+=1\n",
    "    else:\n",
    "        Words[word]=1\n",
    "W=[w for w in Words if Words[w]>1]\n",
    "\n",
    "K=Complex()\n",
    "K.update_complex(W)\n",
    "K.Maximal_Faces"
   ]
  }
 ],
 "metadata": {
  "kernelspec": {
   "display_name": "SageMath 9.6",
   "language": "sage",
   "name": "sagemath-9.6"
  },
  "language_info": {
   "codemirror_mode": {
    "name": "ipython",
    "version": 3
   },
   "file_extension": ".py",
   "mimetype": "text/x-python",
   "name": "python",
   "nbconvert_exporter": "python",
   "pygments_lexer": "ipython3",
   "version": "3.10.3"
  }
 },
 "nbformat": 4,
 "nbformat_minor": 5
}
